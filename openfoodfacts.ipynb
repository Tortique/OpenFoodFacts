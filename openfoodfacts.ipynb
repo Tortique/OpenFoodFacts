{
 "cells": [
  {
   "cell_type": "code",
   "execution_count": null,
   "id": "initial_id",
   "metadata": {
    "collapsed": true
   },
   "outputs": [],
   "source": [
    "import pandas as pd\n",
    "import numpy as np\n",
    "import matplotlib.pyplot as plt\n",
    "import seaborn as sns\n",
    "import missingno as msno"
   ]
  },
  {
   "cell_type": "markdown",
   "source": [
    "P3 - Open Food Facts"
   ],
   "metadata": {
    "collapsed": false
   },
   "id": "9e1ecd694142eb45"
  },
  {
   "cell_type": "code",
   "outputs": [],
   "source": [
    "data = pd.read_csv('fr.openfoodfacts.org.products.csv', sep='\\t', low_memory=False)"
   ],
   "metadata": {
    "collapsed": false
   },
   "id": "dc2e7aa254904751",
   "execution_count": null
  },
  {
   "cell_type": "code",
   "outputs": [],
   "source": [
    "row, col = data.shape\n",
    "print(f'OpenFoodFacts contient {row} lignes et {col} colonnes.')"
   ],
   "metadata": {
    "collapsed": false
   },
   "id": "18d64bd99f34118b",
   "execution_count": null
  },
  {
   "cell_type": "code",
   "outputs": [],
   "source": [
    "data.describe(exclude=[np.number])"
   ],
   "metadata": {
    "collapsed": false
   },
   "id": "357ae39f1a8306e2",
   "execution_count": null
  },
  {
   "cell_type": "code",
   "outputs": [],
   "source": [
    "data.describe()"
   ],
   "metadata": {
    "collapsed": false
   },
   "id": "539605c7f3c64b0b",
   "execution_count": null
  },
  {
   "cell_type": "code",
   "outputs": [],
   "source": [
    "msno.matrix(data, sparkline=False,figsize=(20, 10),fontsize=9, labels=all(data), label_rotation=90)"
   ],
   "metadata": {
    "collapsed": false
   },
   "id": "403f4d335bce7c1a",
   "execution_count": null
  },
  {
   "cell_type": "code",
   "outputs": [],
   "source": [
    "msno.bar(data)"
   ],
   "metadata": {
    "collapsed": false
   },
   "id": "3e4f1b3d265d1269",
   "execution_count": null
  },
  {
   "cell_type": "code",
   "outputs": [],
   "source": [
    "data.isna().mean().mean()"
   ],
   "metadata": {
    "collapsed": false
   },
   "id": "9138ce026c2c51b4",
   "execution_count": null
  },
  {
   "cell_type": "code",
   "outputs": [],
   "source": [
    "data.head(20)"
   ],
   "metadata": {
    "collapsed": false
   },
   "id": "7d82a9d8611ecd68",
   "execution_count": null
  },
  {
   "cell_type": "code",
   "outputs": [],
   "source": [
    "data.drop(data.columns[data.isnull().mean()>0.8], axis=1, inplace=True)"
   ],
   "metadata": {
    "collapsed": false
   },
   "id": "46ea98f1e72fe2b4",
   "execution_count": null
  },
  {
   "cell_type": "code",
   "outputs": [],
   "source": [
    "msno.bar(data)"
   ],
   "metadata": {
    "collapsed": false
   },
   "id": "843825701a01fddb",
   "execution_count": null
  },
  {
   "cell_type": "code",
   "outputs": [],
   "source": [
    "row, col = data.shape\n",
    "print(f'OpenFoodFacts contient {row} lignes et {col} colonnes.')"
   ],
   "metadata": {
    "collapsed": false
   },
   "id": "a6a405fef5e7fcc4",
   "execution_count": null
  },
  {
   "cell_type": "markdown",
   "source": [
    "Pnss_groups_2"
   ],
   "metadata": {
    "collapsed": false
   },
   "id": "227614b1d366583f"
  },
  {
   "cell_type": "code",
   "outputs": [],
   "source": [
    "pnss2 = data[~data['pnns_groups_2'].isna()]"
   ],
   "metadata": {
    "collapsed": false
   },
   "id": "ce68e1bcd84d6fff",
   "execution_count": null
  },
  {
   "cell_type": "code",
   "outputs": [],
   "source": [
    "msno.bar(pnss2)"
   ],
   "metadata": {
    "collapsed": false
   },
   "id": "a04f2963cc1b1ba4",
   "execution_count": null
  },
  {
   "cell_type": "code",
   "outputs": [],
   "source": [
    "pnss2.drop(pnss2.columns[pnss2.isnull().mean()>0.5], axis=1, inplace=True)"
   ],
   "metadata": {
    "collapsed": false
   },
   "id": "cccb2b99574f7617",
   "execution_count": null
  },
  {
   "cell_type": "code",
   "outputs": [],
   "source": [
    "msno.bar(pnss2)"
   ],
   "metadata": {
    "collapsed": false
   },
   "id": "c93c90b1eec5359d",
   "execution_count": null
  },
  {
   "cell_type": "markdown",
   "source": [
    "Suppression des colonnes qui ne nous intéresserait pas \n",
    "    Date de création/modification qui existe plusieurs fois"
   ],
   "metadata": {
    "collapsed": false
   },
   "id": "42e6cf8c7d4c2ba4"
  },
  {
   "cell_type": "code",
   "outputs": [],
   "source": [
    "pnss2 = pnss2.drop(columns=['created_t','last_modified_t'],axis=1)"
   ],
   "metadata": {
    "collapsed": false
   },
   "id": "ed6811a09b0a2bf1",
   "execution_count": null
  },
  {
   "cell_type": "code",
   "outputs": [],
   "source": [
    "pnss2 = pnss2.drop(columns=['packaging','packaging_tags','brands','brands_tags','categories','categories_fr','countries','countries_tags','additives','additives_n','states','states_fr','main_category','image_url','image_small_url','nutrition-score-uk_100g'], axis=1)"
   ],
   "metadata": {
    "collapsed": false
   },
   "id": "e1d444d6f123d4f0",
   "execution_count": null
  },
  {
   "cell_type": "code",
   "outputs": [],
   "source": [
    "msno.bar(pnss2)"
   ],
   "metadata": {
    "collapsed": false
   },
   "id": "efd79d1d58d828a2",
   "execution_count": null
  },
  {
   "cell_type": "code",
   "outputs": [],
   "source": [
    "msno.matrix(pnss2)"
   ],
   "metadata": {
    "collapsed": false
   },
   "id": "7545173204b9e28d",
   "execution_count": null
  },
  {
   "cell_type": "code",
   "outputs": [],
   "source": [
    "pnss2.dropna(inplace=True)"
   ],
   "metadata": {
    "collapsed": false
   },
   "id": "3828e3eb448a9688",
   "execution_count": null
  },
  {
   "cell_type": "code",
   "outputs": [],
   "source": [
    "sns.pairplot(pnss2)"
   ],
   "metadata": {
    "collapsed": false
   },
   "id": "80b274f82c8f1f30",
   "execution_count": null
  },
  {
   "cell_type": "code",
   "outputs": [],
   "source": [
    "sns.boxplot(data=pnss2)"
   ],
   "metadata": {
    "collapsed": false
   },
   "id": "30644ee6306806d7",
   "execution_count": null
  },
  {
   "cell_type": "code",
   "outputs": [],
   "source": [
    "pnss2 = pnss2.loc[pnss2['energy_100g'] < 900]"
   ],
   "metadata": {
    "collapsed": false
   },
   "id": "3faafb61b7dfdba",
   "execution_count": null
  },
  {
   "cell_type": "code",
   "outputs": [],
   "source": [
    "sns.boxplot(data=pnss2)"
   ],
   "metadata": {
    "collapsed": false
   },
   "id": "69064883c1523631",
   "execution_count": null
  },
  {
   "cell_type": "code",
   "outputs": [],
   "source": [
    "pnss2 = pnss2[pnss2['pnns_groups_2'] != 'unknown']\n",
    "pnss2.replace('vegetables','Vegetables',inplace=True)\n",
    "pnss2.replace('legumes','Vegetables',inplace=True)\n",
    "pnss2.replace('Legumes','Vegetables',inplace=True)\n",
    "pnss2.replace('fruits','Fruits',inplace=True)\n",
    "pnss2.replace('cereals','Cereals',inplace=True)\n",
    "pnss2.replace('nuts','Nuts',inplace=True)"
   ],
   "metadata": {
    "collapsed": false
   },
   "id": "58bd111cb9672967",
   "execution_count": null
  },
  {
   "cell_type": "code",
   "outputs": [],
   "source": [
    "sns.scatterplot(pnss2, x='carbohydrates_100g', y='pnns_groups_2')"
   ],
   "metadata": {
    "collapsed": false
   },
   "id": "fce9ffe9232917b9",
   "execution_count": null
  },
  {
   "cell_type": "code",
   "outputs": [],
   "source": [
    "sns.scatterplot(pnss2, x='saturated-fat_100g', y='pnns_groups_2')"
   ],
   "metadata": {
    "collapsed": false
   },
   "id": "8fd85804c25dc7cc",
   "execution_count": null
  },
  {
   "cell_type": "code",
   "outputs": [],
   "source": [
    "sns.scatterplot(pnss2, x='fat_100g', y='pnns_groups_2')"
   ],
   "metadata": {
    "collapsed": false
   },
   "id": "f7d1411a501743bc",
   "execution_count": null
  },
  {
   "cell_type": "code",
   "outputs": [],
   "source": [
    "sns.scatterplot(pnss2, x='sugars_100g', y='pnns_groups_2')"
   ],
   "metadata": {
    "collapsed": false
   },
   "id": "ff263375669c333b",
   "execution_count": null
  },
  {
   "cell_type": "code",
   "outputs": [],
   "source": [
    "sns.scatterplot(pnss2, x='proteins_100g', y='pnns_groups_2')"
   ],
   "metadata": {
    "collapsed": false
   },
   "id": "147f9ba68f90d894",
   "execution_count": null
  },
  {
   "cell_type": "code",
   "outputs": [],
   "source": [
    "sns.scatterplot(pnss2, x='sodium_100g', y='pnns_groups_2')"
   ],
   "metadata": {
    "collapsed": false
   },
   "id": "d00bd07252fdf357",
   "execution_count": null
  },
  {
   "cell_type": "code",
   "outputs": [],
   "source": [
    "sns.scatterplot(pnss2, x='nutrition-score-fr_100g', y='pnns_groups_2')"
   ],
   "metadata": {
    "collapsed": false
   },
   "id": "3a92c8ed99372dd4",
   "execution_count": null
  },
  {
   "cell_type": "code",
   "outputs": [],
   "source": [
    "data_tsne = pnss2.select_dtypes(include='float64')\n",
    "data_tsne = data_tsne.drop(['energy_100g','ingredients_from_palm_oil_n','ingredients_that_may_be_from_palm_oil_n','salt_100g'],axis=1)"
   ],
   "metadata": {
    "collapsed": false
   },
   "id": "f7898c9aaf05097d",
   "execution_count": null
  },
  {
   "cell_type": "code",
   "outputs": [],
   "source": [
    "from sklearn.manifold import TSNE\n",
    "\n",
    "print('Instantiation...')\n",
    "tsne = TSNE(perplexity=7,metric='euclidean', init='pca')\n",
    "\n",
    "# fit transform les données\n",
    "print('Fit_Transforme les données...')\n",
    "x_tsne = tsne.fit_transform(data_tsne)\n",
    "\n"
   ],
   "metadata": {
    "collapsed": false
   },
   "id": "ba76c3a8edcbf197",
   "execution_count": null
  },
  {
   "cell_type": "code",
   "outputs": [],
   "source": [
    "from matplotlib.pyplot import scatter\n",
    "from sklearn.preprocessing import LabelEncoder\n",
    "\n",
    "le = LabelEncoder()\n",
    "le.fit(pnss2['pnns_groups_1'])\n",
    "encoder = le.transform(pnss2['pnns_groups_1'])\n",
    "encoder.reshape(20328,1)\n",
    "# taille du graphique\n",
    "taille = 15\n",
    "\n",
    "fig, ax = plt.subplots(1, 1, figsize=(taille, taille))\n",
    "\n",
    "print('Scatter 1')\n",
    "#for i in np.unique(pnss2['pnns_groups_2']):\n",
    "#    ax.scatter(tsne.embedding_[:,0], tsne.embedding_[:,1],label=i)\n",
    "#sc = ax.scatter(tsne.embedding_[:,0], tsne.embedding_[:,1],c=encoder,cmap='hsv', marker='o', s=60, label=le.classes_,norm='linear')\n",
    "sns.scatterplot(x=tsne.embedding_[:,0],y=tsne.embedding_[:,1], hue=pnss2['pnns_groups_1'], palette='hsv',hue_order=le.classes_)\n",
    "ax.set_title('T-SNE (Target/Cluster)')\n",
    "plt.show()"
   ],
   "metadata": {
    "collapsed": false
   },
   "id": "d605cdedfc827def",
   "execution_count": null
  },
  {
   "cell_type": "code",
   "outputs": [],
   "source": [
    "data_tsne"
   ],
   "metadata": {
    "collapsed": false
   },
   "id": "1b74c0b7cc38a983",
   "execution_count": null
  },
  {
   "cell_type": "code",
   "outputs": [],
   "source": [
    "print(le.classes_.shape)"
   ],
   "metadata": {
    "collapsed": false
   },
   "id": "458d56c397bd2dd2",
   "execution_count": null
  },
  {
   "cell_type": "code",
   "outputs": [],
   "source": [
    "pnss2.describe()"
   ],
   "metadata": {
    "collapsed": false
   },
   "id": "df12a7dc3bf693c",
   "execution_count": null
  },
  {
   "cell_type": "code",
   "outputs": [],
   "source": [
    "print()"
   ],
   "metadata": {
    "collapsed": false
   },
   "id": "259019cf600230b5",
   "execution_count": null
  },
  {
   "cell_type": "code",
   "outputs": [],
   "source": [],
   "metadata": {
    "collapsed": false
   },
   "id": "a576e557500dc3e6"
  }
 ],
 "metadata": {
  "kernelspec": {
   "display_name": "Python 3",
   "language": "python",
   "name": "python3"
  },
  "language_info": {
   "codemirror_mode": {
    "name": "ipython",
    "version": 2
   },
   "file_extension": ".py",
   "mimetype": "text/x-python",
   "name": "python",
   "nbconvert_exporter": "python",
   "pygments_lexer": "ipython2",
   "version": "2.7.6"
  }
 },
 "nbformat": 4,
 "nbformat_minor": 5
}
